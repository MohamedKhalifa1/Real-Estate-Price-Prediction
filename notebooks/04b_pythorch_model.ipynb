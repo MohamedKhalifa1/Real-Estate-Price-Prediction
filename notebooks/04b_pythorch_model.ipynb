{
 "cells": [
  {
   "cell_type": "code",
   "execution_count": 68,
   "id": "a0d6d49f",
   "metadata": {},
   "outputs": [],
   "source": [
    "X_TRAIN_PATH = \"../dataset/X_train.pkl\"\n",
    "X_TEST_PATH = \"../dataset/X_test.pkl\"\n",
    "Y_TRAIN_PATH = \"../dataset/y_train.pkl\"\n",
    "Y_TEST_PATH = \"../dataset/y_test.pkl\"\n",
    "MLFLOW_TRACKING_URI = '../models/mlruns/'\n",
    "MLFLOW_EXPERIMENT_NAME = \"real-estate-price-prediction\""
   ]
  },
  {
   "cell_type": "code",
   "execution_count": 69,
   "id": "ccad9fd3",
   "metadata": {},
   "outputs": [],
   "source": [
    "import os\n",
    "import pandas as pd\n",
    "import joblib\n",
    "import numpy as np\n",
    "import torch \n",
    "import torch.nn as nn\n",
    "import torch.optim as optim\n",
    "from sklearn.model_selection import train_test_split\n",
    "from sklearn.metrics import mean_squared_error, r2_score\n",
    "import numpy as np\n",
    "import pandas as pd\n",
    "import mlflow\n",
    "import mlflow.sklearn\n",
    "from mlflow.models import infer_signature\n"
   ]
  },
  {
   "cell_type": "code",
   "execution_count": 60,
   "id": "321b2bd4",
   "metadata": {},
   "outputs": [],
   "source": [
    "X_train = joblib.load(X_TRAIN_PATH)\n",
    "X_test = joblib.load(X_TEST_PATH)\n",
    "y_train = joblib.load(Y_TRAIN_PATH)\n",
    "y_test = joblib.load(Y_TEST_PATH)\n"
   ]
  },
  {
   "cell_type": "code",
   "execution_count": 61,
   "id": "5350650a",
   "metadata": {},
   "outputs": [
    {
     "data": {
      "text/plain": [
       "((14839, 285), (3710, 285), (14839,), (3710,))"
      ]
     },
     "execution_count": 61,
     "metadata": {},
     "output_type": "execute_result"
    }
   ],
   "source": [
    "X_train.shape ,X_test.shape , y_train.shape , y_test.shape"
   ]
  },
  {
   "cell_type": "code",
   "execution_count": 72,
   "id": "119db317",
   "metadata": {},
   "outputs": [],
   "source": [
    "n = len(y_test)\n",
    "p = X_test.shape[1]"
   ]
  },
  {
   "cell_type": "code",
   "execution_count": 73,
   "id": "c3456193",
   "metadata": {},
   "outputs": [],
   "source": [
    "def adj_r2_score(y_test, y_pred):\n",
    "    r2 = r2_score(y_test, y_pred)\n",
    "    r2 = 1 - ((1 - r2) * (n - 1)) / (n - p - 1)\n",
    "    return r2"
   ]
  },
  {
   "cell_type": "code",
   "execution_count": null,
   "id": "414682e7",
   "metadata": {},
   "outputs": [
    {
     "name": "stdout",
     "output_type": "stream",
     "text": [
      "torch.Size([14839, 285]) torch.Size([3710, 285]) torch.Size([14839, 1]) torch.Size([3710, 1])\n",
      "Epoch [20/500] | Train Loss: 227.5221 | Val Loss: 244.6290\n",
      "Epoch [40/500] | Train Loss: 205.8002 | Val Loss: 206.4690\n",
      "Epoch [60/500] | Train Loss: 188.2114 | Val Loss: 189.2961\n",
      "Epoch [80/500] | Train Loss: 171.4303 | Val Loss: 173.0724\n",
      "Epoch [100/500] | Train Loss: 154.2118 | Val Loss: 155.4861\n",
      "Epoch [120/500] | Train Loss: 135.9361 | Val Loss: 135.7750\n",
      "Epoch [140/500] | Train Loss: 117.9495 | Val Loss: 117.2322\n",
      "Epoch [160/500] | Train Loss: 100.6853 | Val Loss: 101.1785\n",
      "Epoch [180/500] | Train Loss: 84.4353 | Val Loss: 84.9480\n",
      "Epoch [200/500] | Train Loss: 69.3884 | Val Loss: 70.3391\n",
      "Epoch [220/500] | Train Loss: 55.6590 | Val Loss: 56.8775\n",
      "Epoch [240/500] | Train Loss: 43.4566 | Val Loss: 44.8762\n",
      "Epoch [260/500] | Train Loss: 32.9181 | Val Loss: 34.8787\n",
      "Epoch [280/500] | Train Loss: 24.3824 | Val Loss: 26.1651\n",
      "Epoch [300/500] | Train Loss: 17.5073 | Val Loss: 19.1049\n",
      "Epoch [320/500] | Train Loss: 12.3175 | Val Loss: 13.9383\n",
      "Epoch [340/500] | Train Loss: 8.4459 | Val Loss: 9.7876\n",
      "Epoch [360/500] | Train Loss: 5.9407 | Val Loss: 6.5595\n",
      "Epoch [380/500] | Train Loss: 4.1342 | Val Loss: 4.5076\n",
      "Epoch [400/500] | Train Loss: 2.9466 | Val Loss: 2.9060\n",
      "Epoch [420/500] | Train Loss: 2.2870 | Val Loss: 1.8969\n",
      "Epoch [440/500] | Train Loss: 1.8987 | Val Loss: 1.2554\n",
      "Epoch [460/500] | Train Loss: 1.6657 | Val Loss: 0.8530\n",
      "Epoch [480/500] | Train Loss: 1.5704 | Val Loss: 0.6515\n",
      "Epoch [500/500] | Train Loss: 1.4262 | Val Loss: 0.5190\n"
     ]
    },
    {
     "name": "stderr",
     "output_type": "stream",
     "text": [
      "2025/10/18 22:09:20 WARNING mlflow.models.model: `artifact_path` is deprecated. Please use `name` instead.\n"
     ]
    }
   ],
   "source": [
    "mlflow.set_tracking_uri(MLFLOW_TRACKING_URI)\n",
    "mlflow.set_experiment(MLFLOW_EXPERIMENT_NAME)\n",
    "\n",
    "# Example categorical / numerical columns\n",
    "cat_cols = ['type', 'available_from', 'city']\n",
    "num_cols = ['size_sqm', 'bedrooms_num', 'bathrooms_num']\n",
    "\n",
    "# ----------------------------\n",
    "# 1️⃣ Convert to float tensors safely\n",
    "# ----------------------------\n",
    "def to_tensor(data):\n",
    "    \"\"\"Convert pandas/numpy data to float32 torch tensor.\"\"\"\n",
    "    if isinstance(data, torch.Tensor):\n",
    "        return data.float()\n",
    "    elif hasattr(data, 'values'):  # pandas DataFrame or Series\n",
    "        return torch.from_numpy(np.array(data.values, dtype=np.float32))\n",
    "    else:\n",
    "        return torch.from_numpy(np.array(data, dtype=np.float32))\n",
    "\n",
    "X_train = to_tensor(X_train)\n",
    "X_test = to_tensor(X_test)\n",
    "y_train = to_tensor(y_train).view(-1, 1)\n",
    "y_test = to_tensor(y_test).view(-1, 1)\n",
    "\n",
    "print(X_train.shape, X_test.shape, y_train.shape, y_test.shape)\n",
    "\n",
    "# ----------------------------\n",
    "# 2️⃣ Define regularized model\n",
    "# ----------------------------\n",
    "class AdvancedRegressor(nn.Module):\n",
    "    def __init__(self, input_dim):\n",
    "        super().__init__()\n",
    "        self.net = nn.Sequential(\n",
    "            nn.Linear(input_dim, 512),\n",
    "            nn.BatchNorm1d(512),\n",
    "            nn.ReLU(),\n",
    "            nn.Dropout(0.3),\n",
    "\n",
    "            nn.Linear(512, 256),\n",
    "            nn.BatchNorm1d(256),\n",
    "            nn.ReLU(),\n",
    "            nn.Dropout(0.2),\n",
    "\n",
    "            nn.Linear(256, 128),\n",
    "            nn.BatchNorm1d(128),\n",
    "            nn.ReLU(),\n",
    "            nn.Dropout(0.2),\n",
    "\n",
    "            nn.Linear(128, 64),\n",
    "            nn.BatchNorm1d(64),\n",
    "            nn.ReLU(),\n",
    "            nn.Dropout(0.1),\n",
    "\n",
    "            nn.Linear(64, 1)\n",
    "        )\n",
    "\n",
    "    def forward(self, x):\n",
    "        return self.net(x)\n",
    "\n",
    "# ----------------------------\n",
    "# 3️⃣ Initialize model\n",
    "# ----------------------------\n",
    "input_dim = X_train.shape[1]\n",
    "model = AdvancedRegressor(input_dim)\n",
    "criterion = nn.MSELoss()\n",
    "optimizer = optim.Adam(model.parameters(), lr=0.001, weight_decay=1e-5)\n",
    "\n",
    "# ----------------------------\n",
    "# 4️⃣ Train and log with MLflow\n",
    "# ----------------------------\n",
    "epochs = 500\n",
    "\n",
    "with mlflow.start_run(run_name=\"AdvancedRegressor_PyTorch\"):\n",
    "    mlflow.log_params({\n",
    "        \"optimizer\": \"Adam\",\n",
    "        \"lr\": 0.001,\n",
    "        \"weight_decay\": 1e-5,\n",
    "        \"epochs\": epochs,\n",
    "        \"architecture\": \"512-256-128-64\",\n",
    "        \"dropout\": \"0.3-0.2-0.2-0.1\"\n",
    "    })\n",
    "\n",
    "    for epoch in range(epochs):\n",
    "        model.train()\n",
    "        optimizer.zero_grad()\n",
    "        preds = model(X_train)\n",
    "        loss = criterion(preds, y_train)\n",
    "        loss.backward()\n",
    "        optimizer.step()\n",
    "\n",
    "        # Validation\n",
    "        if (epoch + 1) % 20 == 0:\n",
    "            model.eval()\n",
    "            with torch.no_grad():\n",
    "                val_preds = model(X_test)\n",
    "                val_loss = criterion(val_preds, y_test)\n",
    "            print(f\"Epoch [{epoch+1}/{epochs}] | Train Loss: {loss.item():.4f} | Val Loss: {val_loss.item():.4f}\")\n",
    "\n",
    "    # ----------------------------\n",
    "    # 5️⃣ Evaluation and MLflow logging\n",
    "    # ----------------------------\n",
    "    model.eval()\n",
    "    with torch.no_grad():\n",
    "        y_pred = model(X_test).numpy()\n",
    "        y_true = y_test.numpy()\n",
    "\n",
    "        mse = mean_squared_error(y_true, y_pred)\n",
    "        rmse = np.sqrt(mse)\n",
    "        r2 = r2_score(y_true, y_pred)\n",
    "        n = len(y_true)\n",
    "        p = X_test.shape[1]\n",
    "        adj_r2 = 1 - ((1 - r2) * (n - 1)) / (n - p - 1)\n",
    "\n",
    "    mlflow.log_metrics({\n",
    "        \"mse\": mse,\n",
    "        \"rmse\": rmse,\n",
    "        \"r2\": r2,\n",
    "        \"adj_r2\": adj_r2\n",
    "    })\n",
    "\n",
    "    signature = infer_signature(X_test.numpy(), y_pred)\n",
    "    mlflow.pytorch.log_model(model, name=\"pytorch_model\", signature=signature)\n",
    "\n",
    "    print(\"\\n✅ Model logged to MLflow successfully!\")\n",
    "\n",
    "print(f\"\\n✅ RMSE: {rmse:.2f}\")\n",
    "print(f\"✅ R²: {r2:.4f}\")\n",
    "print(f\"✅ Adjusted R²: {adj_r2:.4f}\")"
   ]
  },
  {
   "cell_type": "code",
   "execution_count": null,
   "id": "dc3031ed",
   "metadata": {},
   "outputs": [],
   "source": [
    "joblib.dump(model, \"../models/pytorch_regressor.pkl\")"
   ]
  }
 ],
 "metadata": {
  "language_info": {
   "name": "python"
  }
 },
 "nbformat": 4,
 "nbformat_minor": 5
}
