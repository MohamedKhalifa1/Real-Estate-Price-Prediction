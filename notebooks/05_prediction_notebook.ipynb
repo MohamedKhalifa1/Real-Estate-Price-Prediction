{
 "cells": [
  {
   "cell_type": "code",
   "execution_count": 24,
   "id": "67d6f6b8",
   "metadata": {},
   "outputs": [],
   "source": [
    "MODEL_PATH = \"../models/best_model.pkl\"\n",
    "SCALER_PATH = \"../models/scaler.pkl\"\n",
    "MODEL_COLUMNS = \"../models/model_columns.pkl\""
   ]
  },
  {
   "cell_type": "code",
   "execution_count": 25,
   "id": "aa9b810d",
   "metadata": {},
   "outputs": [],
   "source": [
    "import joblib\n",
    "import numpy as np\n",
    "import pandas as pd"
   ]
  },
  {
   "cell_type": "code",
   "execution_count": 26,
   "id": "c918e05d",
   "metadata": {},
   "outputs": [],
   "source": [
    "loaded_model = joblib.load(MODEL_PATH)\n",
    "scaler = joblib.load(SCALER_PATH)\n",
    "model_columns = joblib.load(MODEL_COLUMNS)"
   ]
  },
  {
   "cell_type": "code",
   "execution_count": 27,
   "id": "835909a5",
   "metadata": {},
   "outputs": [
    {
     "name": "stdout",
     "output_type": "stream",
     "text": [
      "['size_sqm' 'bedrooms_num' 'bathrooms_num']\n"
     ]
    }
   ],
   "source": [
    "print(scaler.feature_names_in_)\n"
   ]
  },
  {
   "cell_type": "code",
   "execution_count": 39,
   "id": "1d51adfd",
   "metadata": {},
   "outputs": [
    {
     "name": "stdout",
     "output_type": "stream",
     "text": [
      "Predicted Price: 8043725.980008817 EGP\n"
     ]
    }
   ],
   "source": [
    "class DATA:\n",
    "    def __init__(self):\n",
    "        self.cat_cols = ['type', 'available_from', 'governorate', 'city', 'district', 'compound']\n",
    "        self.num_cols = ['size_sqm', 'bedrooms_num', 'bathrooms_num']\n",
    "        self.model = joblib.load(MODEL_PATH)\n",
    "        self.scaler = joblib.load(SCALER_PATH)\n",
    "        self.model_columns = joblib.load(MODEL_COLUMNS)\n",
    "\n",
    "    def preprocess(self, data: dict):\n",
    "        # Convert dict to DataFrame\n",
    "        df = pd.DataFrame([data])\n",
    "\n",
    "        # Drop target column if accidentally included\n",
    "        if 'price' in df.columns:\n",
    "            df = df.drop(columns=['price'])\n",
    "\n",
    "        # Scale numerical features\n",
    "        df[self.num_cols] = self.scaler.transform(df[self.num_cols])\n",
    "\n",
    "        # One-hot encode categorical features\n",
    "        df = pd.get_dummies(df, columns=self.cat_cols)\n",
    "\n",
    "        # Align columns with model (fill missing columns with 0)\n",
    "        df = df.reindex(columns=self.model_columns, fill_value=0)\n",
    "\n",
    "        return df\n",
    "\n",
    "    def predict_price(self, data: dict):\n",
    "        df = self.preprocess(data)\n",
    "        prediction = self.model.predict(df)\n",
    "        return np.expm1(prediction[0])\n",
    "\n",
    "\n",
    "# Example usage\n",
    "if __name__ == \"__main__\":\n",
    "    data_input = {\n",
    "        'type': 'apartment',\n",
    "        'available_from': '2025-01-10',\n",
    "        'governorate': 'Alexandria',\n",
    "        'city': 'Alexandria',\n",
    "        'district': 'El-Nozha',\n",
    "        'compound': 'El-Nozha',\n",
    "        'size_sqm': 300,\n",
    "        'bedrooms_num': 10,\n",
    "        'bathrooms_num': 2\n",
    "    }\n",
    "\n",
    "    data_handler = DATA()\n",
    "    predicted_price = data_handler.predict_price(data_input)\n",
    "    print(f\"Predicted Price: {predicted_price} EGP\")\n"
   ]
  }
 ],
 "metadata": {
  "kernelspec": {
   "display_name": "base",
   "language": "python",
   "name": "python3"
  },
  "language_info": {
   "codemirror_mode": {
    "name": "ipython",
    "version": 3
   },
   "file_extension": ".py",
   "mimetype": "text/x-python",
   "name": "python",
   "nbconvert_exporter": "python",
   "pygments_lexer": "ipython3",
   "version": "3.12.8"
  }
 },
 "nbformat": 4,
 "nbformat_minor": 5
}
