{
  "cells": [
    {
      "cell_type": "code",
      "execution_count": 1,
      "metadata": {
        "colab": {
          "base_uri": "https://localhost:8080/"
        },
        "id": "Daw72_B3nCER",
        "outputId": "5e135c58-d35b-4bda-ada0-b2058b7f9f30"
      },
      "outputs": [
        {
          "name": "stderr",
          "output_type": "stream",
          "text": [
            "c:\\Users\\dell\\miniconda3\\Lib\\site-packages\\tqdm\\auto.py:21: TqdmWarning: IProgress not found. Please update jupyter and ipywidgets. See https://ipywidgets.readthedocs.io/en/stable/user_install.html\n",
            "  from .autonotebook import tqdm as notebook_tqdm\n"
          ]
        },
        {
          "name": "stdout",
          "output_type": "stream",
          "text": [
            "Downloading from https://www.kaggle.com/api/v1/datasets/download/hassankhaled21/egyptian-real-estate-listings?dataset_version_number=1...\n"
          ]
        },
        {
          "name": "stderr",
          "output_type": "stream",
          "text": [
            "100%|██████████| 7.08M/7.08M [00:16<00:00, 464kB/s]"
          ]
        },
        {
          "name": "stdout",
          "output_type": "stream",
          "text": [
            "Extracting files...\n"
          ]
        },
        {
          "name": "stderr",
          "output_type": "stream",
          "text": [
            "\n"
          ]
        },
        {
          "name": "stdout",
          "output_type": "stream",
          "text": [
            "Path to dataset files: C:\\Users\\dell\\.cache\\kagglehub\\datasets\\hassankhaled21\\egyptian-real-estate-listings\\versions\\1\n"
          ]
        }
      ],
      "source": [
        "import kagglehub\n",
        "\n",
        "# Download latest version\n",
        "path = kagglehub.dataset_download(\"hassankhaled21/egyptian-real-estate-listings\")\n",
        "\n",
        "print(\"Path to dataset files:\", path)"
      ]
    },
    {
      "cell_type": "code",
      "execution_count": 2,
      "metadata": {
        "id": "Z7y2wZTzrioz"
      },
      "outputs": [],
      "source": [
        "import pandas as pd\n",
        "import numpy as np"
      ]
    },
    {
      "cell_type": "code",
      "execution_count": 3,
      "metadata": {
        "colab": {
          "base_uri": "https://localhost:8080/",
          "height": 539
        },
        "id": "cvB26B1Yrsa7",
        "outputId": "96da3fef-9f19-4ec3-8103-54b58187cff0"
      },
      "outputs": [
        {
          "data": {
            "text/html": [
              "<div>\n",
              "<style scoped>\n",
              "    .dataframe tbody tr th:only-of-type {\n",
              "        vertical-align: middle;\n",
              "    }\n",
              "\n",
              "    .dataframe tbody tr th {\n",
              "        vertical-align: top;\n",
              "    }\n",
              "\n",
              "    .dataframe thead th {\n",
              "        text-align: right;\n",
              "    }\n",
              "</style>\n",
              "<table border=\"1\" class=\"dataframe\">\n",
              "  <thead>\n",
              "    <tr style=\"text-align: right;\">\n",
              "      <th></th>\n",
              "      <th>url</th>\n",
              "      <th>price</th>\n",
              "      <th>description</th>\n",
              "      <th>location</th>\n",
              "      <th>type</th>\n",
              "      <th>size</th>\n",
              "      <th>bedrooms</th>\n",
              "      <th>bathrooms</th>\n",
              "      <th>available_from</th>\n",
              "      <th>payment_method</th>\n",
              "      <th>down_payment</th>\n",
              "    </tr>\n",
              "  </thead>\n",
              "  <tbody>\n",
              "    <tr>\n",
              "      <th>0</th>\n",
              "      <td>https://www.propertyfinder.eg/en/plp/buy/chale...</td>\n",
              "      <td>8,000,000</td>\n",
              "      <td>OWN A CHALET IN EL GOUNA WITH A PRIME LOCATION...</td>\n",
              "      <td>Swan Lake Gouna, Al Gouna, Hurghada, Red Sea</td>\n",
              "      <td>Chalet</td>\n",
              "      <td>732 sqft / 68 sqm</td>\n",
              "      <td>1+ Maid</td>\n",
              "      <td>1</td>\n",
              "      <td>31 Aug 2025</td>\n",
              "      <td>Cash</td>\n",
              "      <td>1,200,000 EGP</td>\n",
              "    </tr>\n",
              "    <tr>\n",
              "      <th>1</th>\n",
              "      <td>https://www.propertyfinder.eg/en/plp/buy/villa...</td>\n",
              "      <td>25,000,000</td>\n",
              "      <td>For sale, a villa with immediate delivery in C...</td>\n",
              "      <td>Karmell, New Zayed City, Sheikh Zayed City, Giza</td>\n",
              "      <td>Villa</td>\n",
              "      <td>2,368 sqft / 220 sqm</td>\n",
              "      <td>4</td>\n",
              "      <td>4</td>\n",
              "      <td>2 Sep 2025</td>\n",
              "      <td>Cash</td>\n",
              "      <td>2,100,000 EGP</td>\n",
              "    </tr>\n",
              "    <tr>\n",
              "      <th>2</th>\n",
              "      <td>https://www.propertyfinder.eg/en/plp/buy/chale...</td>\n",
              "      <td>15,135,000</td>\n",
              "      <td>With a down payment of EGP 1,513,000, a fully ...</td>\n",
              "      <td>Azha North, Ras Al Hekma, North Coast</td>\n",
              "      <td>Chalet</td>\n",
              "      <td>1,270 sqft / 118 sqm</td>\n",
              "      <td>2</td>\n",
              "      <td>2</td>\n",
              "      <td>19 Aug 2025</td>\n",
              "      <td>Cash</td>\n",
              "      <td>1,513,000 EGP</td>\n",
              "    </tr>\n",
              "    <tr>\n",
              "      <th>3</th>\n",
              "      <td>https://www.propertyfinder.eg/en/plp/buy/apart...</td>\n",
              "      <td>12,652,000</td>\n",
              "      <td>Own an apartment in New Cairo with a minimal d...</td>\n",
              "      <td>Taj City, 5th Settlement Compounds, The 5th Se...</td>\n",
              "      <td>Apartment</td>\n",
              "      <td>1,787 sqft / 166 sqm</td>\n",
              "      <td>3</td>\n",
              "      <td>2</td>\n",
              "      <td>26 Aug 2025</td>\n",
              "      <td>Installments</td>\n",
              "      <td>1,260,000 EGP</td>\n",
              "    </tr>\n",
              "    <tr>\n",
              "      <th>4</th>\n",
              "      <td>https://www.propertyfinder.eg/en/plp/buy/villa...</td>\n",
              "      <td>45,250,000</td>\n",
              "      <td>Project: Granville\\nLocation: Fifth Settlement...</td>\n",
              "      <td>Granville, New Capital City, Cairo</td>\n",
              "      <td>Villa</td>\n",
              "      <td>4,306 sqft / 400 sqm</td>\n",
              "      <td>7</td>\n",
              "      <td>7</td>\n",
              "      <td>2 Sep 2025</td>\n",
              "      <td>Cash</td>\n",
              "      <td>2,262,500 EGP</td>\n",
              "    </tr>\n",
              "  </tbody>\n",
              "</table>\n",
              "</div>"
            ],
            "text/plain": [
              "                                                 url       price  \\\n",
              "0  https://www.propertyfinder.eg/en/plp/buy/chale...   8,000,000   \n",
              "1  https://www.propertyfinder.eg/en/plp/buy/villa...  25,000,000   \n",
              "2  https://www.propertyfinder.eg/en/plp/buy/chale...  15,135,000   \n",
              "3  https://www.propertyfinder.eg/en/plp/buy/apart...  12,652,000   \n",
              "4  https://www.propertyfinder.eg/en/plp/buy/villa...  45,250,000   \n",
              "\n",
              "                                         description  \\\n",
              "0  OWN A CHALET IN EL GOUNA WITH A PRIME LOCATION...   \n",
              "1  For sale, a villa with immediate delivery in C...   \n",
              "2  With a down payment of EGP 1,513,000, a fully ...   \n",
              "3  Own an apartment in New Cairo with a minimal d...   \n",
              "4  Project: Granville\\nLocation: Fifth Settlement...   \n",
              "\n",
              "                                            location       type  \\\n",
              "0       Swan Lake Gouna, Al Gouna, Hurghada, Red Sea     Chalet   \n",
              "1   Karmell, New Zayed City, Sheikh Zayed City, Giza      Villa   \n",
              "2              Azha North, Ras Al Hekma, North Coast     Chalet   \n",
              "3  Taj City, 5th Settlement Compounds, The 5th Se...  Apartment   \n",
              "4                 Granville, New Capital City, Cairo      Villa   \n",
              "\n",
              "                   size bedrooms bathrooms available_from payment_method  \\\n",
              "0     732 sqft / 68 sqm  1+ Maid         1    31 Aug 2025           Cash   \n",
              "1  2,368 sqft / 220 sqm        4         4     2 Sep 2025           Cash   \n",
              "2  1,270 sqft / 118 sqm        2         2    19 Aug 2025           Cash   \n",
              "3  1,787 sqft / 166 sqm        3         2    26 Aug 2025   Installments   \n",
              "4  4,306 sqft / 400 sqm        7         7     2 Sep 2025           Cash   \n",
              "\n",
              "    down_payment  \n",
              "0  1,200,000 EGP  \n",
              "1  2,100,000 EGP  \n",
              "2  1,513,000 EGP  \n",
              "3  1,260,000 EGP  \n",
              "4  2,262,500 EGP  "
            ]
          },
          "execution_count": 3,
          "metadata": {},
          "output_type": "execute_result"
        }
      ],
      "source": [
        "df = pd.read_csv(path + \"/egypt_real_estate_listings.csv\")\n",
        "df.head()"
      ]
    },
    {
      "cell_type": "code",
      "execution_count": 4,
      "metadata": {
        "colab": {
          "base_uri": "https://localhost:8080/"
        },
        "id": "KvCA6qvGrF01",
        "outputId": "4632c231-f42c-45bf-f696-20739e5b4999"
      },
      "outputs": [
        {
          "name": "stdout",
          "output_type": "stream",
          "text": [
            "<class 'pandas.core.frame.DataFrame'>\n",
            "RangeIndex: 19924 entries, 0 to 19923\n",
            "Data columns (total 11 columns):\n",
            " #   Column          Non-Null Count  Dtype \n",
            "---  ------          --------------  ----- \n",
            " 0   url             19924 non-null  object\n",
            " 1   price           19385 non-null  object\n",
            " 2   description     19846 non-null  object\n",
            " 3   location        19833 non-null  object\n",
            " 4   type            19847 non-null  object\n",
            " 5   size            19847 non-null  object\n",
            " 6   bedrooms        19780 non-null  object\n",
            " 7   bathrooms       19784 non-null  object\n",
            " 8   available_from  19261 non-null  object\n",
            " 9   payment_method  19383 non-null  object\n",
            " 10  down_payment    5445 non-null   object\n",
            "dtypes: object(11)\n",
            "memory usage: 1.7+ MB\n"
          ]
        }
      ],
      "source": [
        "df.info()"
      ]
    },
    {
      "cell_type": "code",
      "execution_count": 5,
      "metadata": {
        "colab": {
          "base_uri": "https://localhost:8080/"
        },
        "id": "_Kr_MVjEtJxz",
        "outputId": "a847697f-0d8c-4614-8f55-602928058139"
      },
      "outputs": [
        {
          "name": "stdout",
          "output_type": "stream",
          "text": [
            "14479\n"
          ]
        }
      ],
      "source": [
        "down_payment_list = df[\"down_payment\"].isna().sum()\n",
        "print(down_payment_list)"
      ]
    },
    {
      "cell_type": "code",
      "execution_count": null,
      "metadata": {},
      "outputs": [],
      "source": []
    }
  ],
  "metadata": {
    "colab": {
      "provenance": []
    },
    "kernelspec": {
      "display_name": "base",
      "language": "python",
      "name": "python3"
    },
    "language_info": {
      "codemirror_mode": {
        "name": "ipython",
        "version": 3
      },
      "file_extension": ".py",
      "mimetype": "text/x-python",
      "name": "python",
      "nbconvert_exporter": "python",
      "pygments_lexer": "ipython3",
      "version": "3.12.8"
    }
  },
  "nbformat": 4,
  "nbformat_minor": 0
}
