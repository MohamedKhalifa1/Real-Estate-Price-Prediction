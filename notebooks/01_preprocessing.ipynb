{
 "cells": [
  {
   "cell_type": "code",
   "execution_count": 1,
   "id": "202642ee",
   "metadata": {},
   "outputs": [],
   "source": [
    "DATASET_PATH = '../dataset/egypt_real_estate_listings.csv'\n",
    "CLEANED_DATASET_PATH = '../dataset/egypt_real_estate_listings_cleaned.csv'"
   ]
  },
  {
   "cell_type": "code",
   "execution_count": 2,
   "id": "056b80a9",
   "metadata": {},
   "outputs": [],
   "source": [
    "import pandas as pd\n",
    "import numpy as np\n",
    "import re\n"
   ]
  },
  {
   "cell_type": "code",
   "execution_count": 3,
   "id": "b64372a0",
   "metadata": {},
   "outputs": [],
   "source": [
    "df = pd.read_csv(DATASET_PATH)"
   ]
  },
  {
   "cell_type": "code",
   "execution_count": 4,
   "id": "eca6622e",
   "metadata": {},
   "outputs": [
    {
     "data": {
      "text/html": [
       "<div>\n",
       "<style scoped>\n",
       "    .dataframe tbody tr th:only-of-type {\n",
       "        vertical-align: middle;\n",
       "    }\n",
       "\n",
       "    .dataframe tbody tr th {\n",
       "        vertical-align: top;\n",
       "    }\n",
       "\n",
       "    .dataframe thead th {\n",
       "        text-align: right;\n",
       "    }\n",
       "</style>\n",
       "<table border=\"1\" class=\"dataframe\">\n",
       "  <thead>\n",
       "    <tr style=\"text-align: right;\">\n",
       "      <th></th>\n",
       "      <th>url</th>\n",
       "      <th>price</th>\n",
       "      <th>description</th>\n",
       "      <th>location</th>\n",
       "      <th>type</th>\n",
       "      <th>size</th>\n",
       "      <th>bedrooms</th>\n",
       "      <th>bathrooms</th>\n",
       "      <th>available_from</th>\n",
       "      <th>payment_method</th>\n",
       "      <th>down_payment</th>\n",
       "    </tr>\n",
       "  </thead>\n",
       "  <tbody>\n",
       "    <tr>\n",
       "      <th>0</th>\n",
       "      <td>https://www.propertyfinder.eg/en/plp/buy/chale...</td>\n",
       "      <td>8,000,000</td>\n",
       "      <td>OWN A CHALET IN EL GOUNA WITH A PRIME LOCATION...</td>\n",
       "      <td>Swan Lake Gouna, Al Gouna, Hurghada, Red Sea</td>\n",
       "      <td>Chalet</td>\n",
       "      <td>732 sqft / 68 sqm</td>\n",
       "      <td>1+ Maid</td>\n",
       "      <td>1</td>\n",
       "      <td>31 Aug 2025</td>\n",
       "      <td>Cash</td>\n",
       "      <td>1,200,000 EGP</td>\n",
       "    </tr>\n",
       "    <tr>\n",
       "      <th>1</th>\n",
       "      <td>https://www.propertyfinder.eg/en/plp/buy/villa...</td>\n",
       "      <td>25,000,000</td>\n",
       "      <td>For sale, a villa with immediate delivery in C...</td>\n",
       "      <td>Karmell, New Zayed City, Sheikh Zayed City, Giza</td>\n",
       "      <td>Villa</td>\n",
       "      <td>2,368 sqft / 220 sqm</td>\n",
       "      <td>4</td>\n",
       "      <td>4</td>\n",
       "      <td>2 Sep 2025</td>\n",
       "      <td>Cash</td>\n",
       "      <td>2,100,000 EGP</td>\n",
       "    </tr>\n",
       "    <tr>\n",
       "      <th>2</th>\n",
       "      <td>https://www.propertyfinder.eg/en/plp/buy/chale...</td>\n",
       "      <td>15,135,000</td>\n",
       "      <td>With a down payment of EGP 1,513,000, a fully ...</td>\n",
       "      <td>Azha North, Ras Al Hekma, North Coast</td>\n",
       "      <td>Chalet</td>\n",
       "      <td>1,270 sqft / 118 sqm</td>\n",
       "      <td>2</td>\n",
       "      <td>2</td>\n",
       "      <td>19 Aug 2025</td>\n",
       "      <td>Cash</td>\n",
       "      <td>1,513,000 EGP</td>\n",
       "    </tr>\n",
       "    <tr>\n",
       "      <th>3</th>\n",
       "      <td>https://www.propertyfinder.eg/en/plp/buy/apart...</td>\n",
       "      <td>12,652,000</td>\n",
       "      <td>Own an apartment in New Cairo with a minimal d...</td>\n",
       "      <td>Taj City, 5th Settlement Compounds, The 5th Se...</td>\n",
       "      <td>Apartment</td>\n",
       "      <td>1,787 sqft / 166 sqm</td>\n",
       "      <td>3</td>\n",
       "      <td>2</td>\n",
       "      <td>26 Aug 2025</td>\n",
       "      <td>Installments</td>\n",
       "      <td>1,260,000 EGP</td>\n",
       "    </tr>\n",
       "    <tr>\n",
       "      <th>4</th>\n",
       "      <td>https://www.propertyfinder.eg/en/plp/buy/villa...</td>\n",
       "      <td>45,250,000</td>\n",
       "      <td>Project: Granville\\nLocation: Fifth Settlement...</td>\n",
       "      <td>Granville, New Capital City, Cairo</td>\n",
       "      <td>Villa</td>\n",
       "      <td>4,306 sqft / 400 sqm</td>\n",
       "      <td>7</td>\n",
       "      <td>7</td>\n",
       "      <td>2 Sep 2025</td>\n",
       "      <td>Cash</td>\n",
       "      <td>2,262,500 EGP</td>\n",
       "    </tr>\n",
       "  </tbody>\n",
       "</table>\n",
       "</div>"
      ],
      "text/plain": [
       "                                                 url       price  \\\n",
       "0  https://www.propertyfinder.eg/en/plp/buy/chale...   8,000,000   \n",
       "1  https://www.propertyfinder.eg/en/plp/buy/villa...  25,000,000   \n",
       "2  https://www.propertyfinder.eg/en/plp/buy/chale...  15,135,000   \n",
       "3  https://www.propertyfinder.eg/en/plp/buy/apart...  12,652,000   \n",
       "4  https://www.propertyfinder.eg/en/plp/buy/villa...  45,250,000   \n",
       "\n",
       "                                         description  \\\n",
       "0  OWN A CHALET IN EL GOUNA WITH A PRIME LOCATION...   \n",
       "1  For sale, a villa with immediate delivery in C...   \n",
       "2  With a down payment of EGP 1,513,000, a fully ...   \n",
       "3  Own an apartment in New Cairo with a minimal d...   \n",
       "4  Project: Granville\\nLocation: Fifth Settlement...   \n",
       "\n",
       "                                            location       type  \\\n",
       "0       Swan Lake Gouna, Al Gouna, Hurghada, Red Sea     Chalet   \n",
       "1   Karmell, New Zayed City, Sheikh Zayed City, Giza      Villa   \n",
       "2              Azha North, Ras Al Hekma, North Coast     Chalet   \n",
       "3  Taj City, 5th Settlement Compounds, The 5th Se...  Apartment   \n",
       "4                 Granville, New Capital City, Cairo      Villa   \n",
       "\n",
       "                   size bedrooms bathrooms available_from payment_method  \\\n",
       "0     732 sqft / 68 sqm  1+ Maid         1    31 Aug 2025           Cash   \n",
       "1  2,368 sqft / 220 sqm        4         4     2 Sep 2025           Cash   \n",
       "2  1,270 sqft / 118 sqm        2         2    19 Aug 2025           Cash   \n",
       "3  1,787 sqft / 166 sqm        3         2    26 Aug 2025   Installments   \n",
       "4  4,306 sqft / 400 sqm        7         7     2 Sep 2025           Cash   \n",
       "\n",
       "    down_payment  \n",
       "0  1,200,000 EGP  \n",
       "1  2,100,000 EGP  \n",
       "2  1,513,000 EGP  \n",
       "3  1,260,000 EGP  \n",
       "4  2,262,500 EGP  "
      ]
     },
     "execution_count": 4,
     "metadata": {},
     "output_type": "execute_result"
    }
   ],
   "source": [
    "df.head()"
   ]
  },
  {
   "cell_type": "code",
   "execution_count": 5,
   "id": "8eb0a561",
   "metadata": {},
   "outputs": [
    {
     "name": "stdout",
     "output_type": "stream",
     "text": [
      "<class 'pandas.core.frame.DataFrame'>\n",
      "RangeIndex: 19924 entries, 0 to 19923\n",
      "Data columns (total 11 columns):\n",
      " #   Column          Non-Null Count  Dtype \n",
      "---  ------          --------------  ----- \n",
      " 0   url             19924 non-null  object\n",
      " 1   price           19385 non-null  object\n",
      " 2   description     19846 non-null  object\n",
      " 3   location        19833 non-null  object\n",
      " 4   type            19847 non-null  object\n",
      " 5   size            19847 non-null  object\n",
      " 6   bedrooms        19780 non-null  object\n",
      " 7   bathrooms       19784 non-null  object\n",
      " 8   available_from  19261 non-null  object\n",
      " 9   payment_method  19383 non-null  object\n",
      " 10  down_payment    5445 non-null   object\n",
      "dtypes: object(11)\n",
      "memory usage: 1.7+ MB\n"
     ]
    }
   ],
   "source": [
    "df.info()"
   ]
  },
  {
   "cell_type": "code",
   "execution_count": 6,
   "id": "4d6111cc",
   "metadata": {},
   "outputs": [
    {
     "data": {
      "text/plain": [
       "['url',\n",
       " 'price',\n",
       " 'description',\n",
       " 'location',\n",
       " 'type',\n",
       " 'size',\n",
       " 'bedrooms',\n",
       " 'bathrooms',\n",
       " 'available_from',\n",
       " 'payment_method',\n",
       " 'down_payment']"
      ]
     },
     "execution_count": 6,
     "metadata": {},
     "output_type": "execute_result"
    }
   ],
   "source": [
    "df.columns.to_list()"
   ]
  },
  {
   "cell_type": "code",
   "execution_count": 7,
   "id": "b5dc8257",
   "metadata": {},
   "outputs": [],
   "source": [
    "df= df[[\n",
    " 'price',\n",
    " 'location',\n",
    " 'type',\n",
    " 'size',\n",
    " 'bedrooms',\n",
    " 'bathrooms',\n",
    " 'available_from',\n",
    " 'payment_method']]"
   ]
  },
  {
   "cell_type": "code",
   "execution_count": 8,
   "id": "04addf14",
   "metadata": {},
   "outputs": [
    {
     "name": "stdout",
     "output_type": "stream",
     "text": [
      "<class 'pandas.core.frame.DataFrame'>\n",
      "RangeIndex: 19924 entries, 0 to 19923\n",
      "Data columns (total 8 columns):\n",
      " #   Column          Non-Null Count  Dtype \n",
      "---  ------          --------------  ----- \n",
      " 0   price           19385 non-null  object\n",
      " 1   location        19833 non-null  object\n",
      " 2   type            19847 non-null  object\n",
      " 3   size            19847 non-null  object\n",
      " 4   bedrooms        19780 non-null  object\n",
      " 5   bathrooms       19784 non-null  object\n",
      " 6   available_from  19261 non-null  object\n",
      " 7   payment_method  19383 non-null  object\n",
      "dtypes: object(8)\n",
      "memory usage: 1.2+ MB\n"
     ]
    }
   ],
   "source": [
    "df.info()"
   ]
  },
  {
   "cell_type": "code",
   "execution_count": 9,
   "id": "4f0008a1",
   "metadata": {},
   "outputs": [
    {
     "name": "stdout",
     "output_type": "stream",
     "text": [
      "duplicated rows: 326\n"
     ]
    }
   ],
   "source": [
    "print(f\"duplicated rows: {df.duplicated().sum()}\")"
   ]
  },
  {
   "cell_type": "code",
   "execution_count": 10,
   "id": "69fc6d9f",
   "metadata": {},
   "outputs": [],
   "source": [
    "df.drop_duplicates(inplace=True)\n"
   ]
  },
  {
   "cell_type": "code",
   "execution_count": 11,
   "id": "42503ec2",
   "metadata": {},
   "outputs": [
    {
     "name": "stdout",
     "output_type": "stream",
     "text": [
      "<class 'pandas.core.frame.DataFrame'>\n",
      "Index: 19598 entries, 0 to 19923\n",
      "Data columns (total 8 columns):\n",
      " #   Column          Non-Null Count  Dtype \n",
      "---  ------          --------------  ----- \n",
      " 0   price           19142 non-null  object\n",
      " 1   location        19584 non-null  object\n",
      " 2   type            19597 non-null  object\n",
      " 3   size            19597 non-null  object\n",
      " 4   bedrooms        19544 non-null  object\n",
      " 5   bathrooms       19548 non-null  object\n",
      " 6   available_from  19017 non-null  object\n",
      " 7   payment_method  19140 non-null  object\n",
      "dtypes: object(8)\n",
      "memory usage: 1.3+ MB\n"
     ]
    }
   ],
   "source": [
    "df.info()"
   ]
  },
  {
   "cell_type": "code",
   "execution_count": 12,
   "id": "05de8f16",
   "metadata": {},
   "outputs": [
    {
     "name": "stdout",
     "output_type": "stream",
     "text": [
      "null values: \n",
      "price             456\n",
      "location           14\n",
      "type                1\n",
      "size                1\n",
      "bedrooms           54\n",
      "bathrooms          50\n",
      "available_from    581\n",
      "payment_method    458\n",
      "dtype: int64\n"
     ]
    }
   ],
   "source": [
    "print(f\"null values: \\n{df.isnull().sum()}\")"
   ]
  },
  {
   "cell_type": "code",
   "execution_count": 13,
   "id": "311b901e",
   "metadata": {},
   "outputs": [],
   "source": [
    "df.dropna(inplace=True)"
   ]
  },
  {
   "cell_type": "code",
   "execution_count": 14,
   "id": "58cd65c4",
   "metadata": {},
   "outputs": [
    {
     "name": "stdout",
     "output_type": "stream",
     "text": [
      "<class 'pandas.core.frame.DataFrame'>\n",
      "Index: 18549 entries, 0 to 19923\n",
      "Data columns (total 8 columns):\n",
      " #   Column          Non-Null Count  Dtype \n",
      "---  ------          --------------  ----- \n",
      " 0   price           18549 non-null  object\n",
      " 1   location        18549 non-null  object\n",
      " 2   type            18549 non-null  object\n",
      " 3   size            18549 non-null  object\n",
      " 4   bedrooms        18549 non-null  object\n",
      " 5   bathrooms       18549 non-null  object\n",
      " 6   available_from  18549 non-null  object\n",
      " 7   payment_method  18549 non-null  object\n",
      "dtypes: object(8)\n",
      "memory usage: 1.3+ MB\n"
     ]
    }
   ],
   "source": [
    "df.info()"
   ]
  },
  {
   "cell_type": "code",
   "execution_count": 15,
   "id": "d800f5ec",
   "metadata": {},
   "outputs": [
    {
     "data": {
      "text/html": [
       "<div>\n",
       "<style scoped>\n",
       "    .dataframe tbody tr th:only-of-type {\n",
       "        vertical-align: middle;\n",
       "    }\n",
       "\n",
       "    .dataframe tbody tr th {\n",
       "        vertical-align: top;\n",
       "    }\n",
       "\n",
       "    .dataframe thead th {\n",
       "        text-align: right;\n",
       "    }\n",
       "</style>\n",
       "<table border=\"1\" class=\"dataframe\">\n",
       "  <thead>\n",
       "    <tr style=\"text-align: right;\">\n",
       "      <th></th>\n",
       "      <th>price</th>\n",
       "      <th>location</th>\n",
       "      <th>type</th>\n",
       "      <th>size</th>\n",
       "      <th>bedrooms</th>\n",
       "      <th>bathrooms</th>\n",
       "      <th>available_from</th>\n",
       "      <th>payment_method</th>\n",
       "    </tr>\n",
       "  </thead>\n",
       "  <tbody>\n",
       "    <tr>\n",
       "      <th>0</th>\n",
       "      <td>8,000,000</td>\n",
       "      <td>Swan Lake Gouna, Al Gouna, Hurghada, Red Sea</td>\n",
       "      <td>Chalet</td>\n",
       "      <td>732 sqft / 68 sqm</td>\n",
       "      <td>1+ Maid</td>\n",
       "      <td>1</td>\n",
       "      <td>31 Aug 2025</td>\n",
       "      <td>Cash</td>\n",
       "    </tr>\n",
       "    <tr>\n",
       "      <th>1</th>\n",
       "      <td>25,000,000</td>\n",
       "      <td>Karmell, New Zayed City, Sheikh Zayed City, Giza</td>\n",
       "      <td>Villa</td>\n",
       "      <td>2,368 sqft / 220 sqm</td>\n",
       "      <td>4</td>\n",
       "      <td>4</td>\n",
       "      <td>2 Sep 2025</td>\n",
       "      <td>Cash</td>\n",
       "    </tr>\n",
       "    <tr>\n",
       "      <th>2</th>\n",
       "      <td>15,135,000</td>\n",
       "      <td>Azha North, Ras Al Hekma, North Coast</td>\n",
       "      <td>Chalet</td>\n",
       "      <td>1,270 sqft / 118 sqm</td>\n",
       "      <td>2</td>\n",
       "      <td>2</td>\n",
       "      <td>19 Aug 2025</td>\n",
       "      <td>Cash</td>\n",
       "    </tr>\n",
       "    <tr>\n",
       "      <th>3</th>\n",
       "      <td>12,652,000</td>\n",
       "      <td>Taj City, 5th Settlement Compounds, The 5th Se...</td>\n",
       "      <td>Apartment</td>\n",
       "      <td>1,787 sqft / 166 sqm</td>\n",
       "      <td>3</td>\n",
       "      <td>2</td>\n",
       "      <td>26 Aug 2025</td>\n",
       "      <td>Installments</td>\n",
       "    </tr>\n",
       "    <tr>\n",
       "      <th>4</th>\n",
       "      <td>45,250,000</td>\n",
       "      <td>Granville, New Capital City, Cairo</td>\n",
       "      <td>Villa</td>\n",
       "      <td>4,306 sqft / 400 sqm</td>\n",
       "      <td>7</td>\n",
       "      <td>7</td>\n",
       "      <td>2 Sep 2025</td>\n",
       "      <td>Cash</td>\n",
       "    </tr>\n",
       "  </tbody>\n",
       "</table>\n",
       "</div>"
      ],
      "text/plain": [
       "        price                                           location       type  \\\n",
       "0   8,000,000       Swan Lake Gouna, Al Gouna, Hurghada, Red Sea     Chalet   \n",
       "1  25,000,000   Karmell, New Zayed City, Sheikh Zayed City, Giza      Villa   \n",
       "2  15,135,000              Azha North, Ras Al Hekma, North Coast     Chalet   \n",
       "3  12,652,000  Taj City, 5th Settlement Compounds, The 5th Se...  Apartment   \n",
       "4  45,250,000                 Granville, New Capital City, Cairo      Villa   \n",
       "\n",
       "                   size bedrooms bathrooms available_from payment_method  \n",
       "0     732 sqft / 68 sqm  1+ Maid         1    31 Aug 2025           Cash  \n",
       "1  2,368 sqft / 220 sqm        4         4     2 Sep 2025           Cash  \n",
       "2  1,270 sqft / 118 sqm        2         2    19 Aug 2025           Cash  \n",
       "3  1,787 sqft / 166 sqm        3         2    26 Aug 2025   Installments  \n",
       "4  4,306 sqft / 400 sqm        7         7     2 Sep 2025           Cash  "
      ]
     },
     "execution_count": 15,
     "metadata": {},
     "output_type": "execute_result"
    }
   ],
   "source": [
    "df.head()"
   ]
  },
  {
   "cell_type": "code",
   "execution_count": 16,
   "id": "121f395f",
   "metadata": {},
   "outputs": [
    {
     "name": "stdout",
     "output_type": "stream",
     "text": [
      "<class 'pandas.core.frame.DataFrame'>\n",
      "Index: 18549 entries, 0 to 19923\n",
      "Data columns (total 8 columns):\n",
      " #   Column          Non-Null Count  Dtype  \n",
      "---  ------          --------------  -----  \n",
      " 0   price           18549 non-null  float64\n",
      " 1   location        18549 non-null  object \n",
      " 2   type            18549 non-null  object \n",
      " 3   size            18549 non-null  object \n",
      " 4   bedrooms        18549 non-null  object \n",
      " 5   bathrooms       18549 non-null  object \n",
      " 6   available_from  18549 non-null  object \n",
      " 7   payment_method  18549 non-null  object \n",
      "dtypes: float64(1), object(7)\n",
      "memory usage: 1.3+ MB\n"
     ]
    },
    {
     "data": {
      "text/html": [
       "<div>\n",
       "<style scoped>\n",
       "    .dataframe tbody tr th:only-of-type {\n",
       "        vertical-align: middle;\n",
       "    }\n",
       "\n",
       "    .dataframe tbody tr th {\n",
       "        vertical-align: top;\n",
       "    }\n",
       "\n",
       "    .dataframe thead th {\n",
       "        text-align: right;\n",
       "    }\n",
       "</style>\n",
       "<table border=\"1\" class=\"dataframe\">\n",
       "  <thead>\n",
       "    <tr style=\"text-align: right;\">\n",
       "      <th></th>\n",
       "      <th>price</th>\n",
       "      <th>location</th>\n",
       "      <th>type</th>\n",
       "      <th>size</th>\n",
       "      <th>bedrooms</th>\n",
       "      <th>bathrooms</th>\n",
       "      <th>available_from</th>\n",
       "      <th>payment_method</th>\n",
       "    </tr>\n",
       "  </thead>\n",
       "  <tbody>\n",
       "    <tr>\n",
       "      <th>0</th>\n",
       "      <td>8000000.0</td>\n",
       "      <td>Swan Lake Gouna, Al Gouna, Hurghada, Red Sea</td>\n",
       "      <td>Chalet</td>\n",
       "      <td>732 sqft / 68 sqm</td>\n",
       "      <td>1+ Maid</td>\n",
       "      <td>1</td>\n",
       "      <td>31 Aug 2025</td>\n",
       "      <td>Cash</td>\n",
       "    </tr>\n",
       "    <tr>\n",
       "      <th>1</th>\n",
       "      <td>25000000.0</td>\n",
       "      <td>Karmell, New Zayed City, Sheikh Zayed City, Giza</td>\n",
       "      <td>Villa</td>\n",
       "      <td>2,368 sqft / 220 sqm</td>\n",
       "      <td>4</td>\n",
       "      <td>4</td>\n",
       "      <td>2 Sep 2025</td>\n",
       "      <td>Cash</td>\n",
       "    </tr>\n",
       "    <tr>\n",
       "      <th>2</th>\n",
       "      <td>15135000.0</td>\n",
       "      <td>Azha North, Ras Al Hekma, North Coast</td>\n",
       "      <td>Chalet</td>\n",
       "      <td>1,270 sqft / 118 sqm</td>\n",
       "      <td>2</td>\n",
       "      <td>2</td>\n",
       "      <td>19 Aug 2025</td>\n",
       "      <td>Cash</td>\n",
       "    </tr>\n",
       "    <tr>\n",
       "      <th>3</th>\n",
       "      <td>12652000.0</td>\n",
       "      <td>Taj City, 5th Settlement Compounds, The 5th Se...</td>\n",
       "      <td>Apartment</td>\n",
       "      <td>1,787 sqft / 166 sqm</td>\n",
       "      <td>3</td>\n",
       "      <td>2</td>\n",
       "      <td>26 Aug 2025</td>\n",
       "      <td>Installments</td>\n",
       "    </tr>\n",
       "    <tr>\n",
       "      <th>4</th>\n",
       "      <td>45250000.0</td>\n",
       "      <td>Granville, New Capital City, Cairo</td>\n",
       "      <td>Villa</td>\n",
       "      <td>4,306 sqft / 400 sqm</td>\n",
       "      <td>7</td>\n",
       "      <td>7</td>\n",
       "      <td>2 Sep 2025</td>\n",
       "      <td>Cash</td>\n",
       "    </tr>\n",
       "  </tbody>\n",
       "</table>\n",
       "</div>"
      ],
      "text/plain": [
       "        price                                           location       type  \\\n",
       "0   8000000.0       Swan Lake Gouna, Al Gouna, Hurghada, Red Sea     Chalet   \n",
       "1  25000000.0   Karmell, New Zayed City, Sheikh Zayed City, Giza      Villa   \n",
       "2  15135000.0              Azha North, Ras Al Hekma, North Coast     Chalet   \n",
       "3  12652000.0  Taj City, 5th Settlement Compounds, The 5th Se...  Apartment   \n",
       "4  45250000.0                 Granville, New Capital City, Cairo      Villa   \n",
       "\n",
       "                   size bedrooms bathrooms available_from payment_method  \n",
       "0     732 sqft / 68 sqm  1+ Maid         1    31 Aug 2025           Cash  \n",
       "1  2,368 sqft / 220 sqm        4         4     2 Sep 2025           Cash  \n",
       "2  1,270 sqft / 118 sqm        2         2    19 Aug 2025           Cash  \n",
       "3  1,787 sqft / 166 sqm        3         2    26 Aug 2025   Installments  \n",
       "4  4,306 sqft / 400 sqm        7         7     2 Sep 2025           Cash  "
      ]
     },
     "execution_count": 16,
     "metadata": {},
     "output_type": "execute_result"
    }
   ],
   "source": [
    "#convert price to float\n",
    "df['price'] = df['price'].replace(',', '', regex=True).astype(float)\n",
    "df.info()\n",
    "df.head()"
   ]
  },
  {
   "cell_type": "code",
   "execution_count": 17,
   "id": "fe144e3f",
   "metadata": {},
   "outputs": [
    {
     "data": {
      "text/plain": [
       "location\n",
       "Marassi, Sidi Abdel Rahman, North Coast                                                      396\n",
       "Mountain View iCity, 5th Settlement Compounds, The 5th Settlement, New Cairo City, Cairo     371\n",
       "Madinaty, Cairo                                                                              347\n",
       "Hyde Park, 5th Settlement Compounds, The 5th Settlement, New Cairo City, Cairo               342\n",
       "Palm Hills New Cairo, 5th Settlement Compounds, The 5th Settlement, New Cairo City, Cairo    306\n",
       "                                                                                            ... \n",
       "Nazih Khalifa St., El Korba, Heliopolis - Masr El Gedida, Cairo                                1\n",
       "Kasr Al Safa St., Zezenia, Hay Sharq, Alexandria                                               1\n",
       "VAHA by Alkarma Developments, New Zayed City, Sheikh Zayed City, Giza                          1\n",
       "First Heights, 26th of July Corridor, 6 October City, Giza                                     1\n",
       "Geziret Al Arab St. (El Mohandes Mohamed Hassan Helmy), Mohandessin, Giza                      1\n",
       "Name: count, Length: 1485, dtype: int64"
      ]
     },
     "execution_count": 17,
     "metadata": {},
     "output_type": "execute_result"
    }
   ],
   "source": [
    "df[\"location\"].value_counts()"
   ]
  },
  {
   "cell_type": "code",
   "execution_count": 18,
   "id": "fc5eebd2",
   "metadata": {},
   "outputs": [],
   "source": [
    "df['location'] = df['location'].str.strip().str.title()"
   ]
  },
  {
   "cell_type": "code",
   "execution_count": 19,
   "id": "8a2710fe",
   "metadata": {},
   "outputs": [],
   "source": [
    "df['governorate'] = df['location'].str.split(',').str[-1].str.strip()"
   ]
  },
  {
   "cell_type": "code",
   "execution_count": 20,
   "id": "b66c511c",
   "metadata": {},
   "outputs": [],
   "source": [
    "df['city'] = df['location'].str.split(',').str[-2].str.strip()"
   ]
  },
  {
   "cell_type": "code",
   "execution_count": 21,
   "id": "81035c80",
   "metadata": {},
   "outputs": [],
   "source": [
    "df['district'] = df['location'].str.split(',').str[-3].str.strip()"
   ]
  },
  {
   "cell_type": "code",
   "execution_count": 22,
   "id": "de5359d1",
   "metadata": {},
   "outputs": [],
   "source": [
    "df['compound'] = df['location'].str.split(',').str[0].str.strip()"
   ]
  },
  {
   "cell_type": "code",
   "execution_count": 23,
   "id": "da6b2788",
   "metadata": {},
   "outputs": [],
   "source": [
    "def split_location(df):\n",
    "    # Clean and standardize the text\n",
    "    df['location'] = df['location'].astype(str).str.strip().str.title()\n",
    "    \n",
    "    # Split into parts\n",
    "    df['location_parts'] = df['location'].str.split(',')\n",
    "    \n",
    "    # Extract components safely\n",
    "    df['compound'] = df['location_parts'].apply(lambda x: x[0].strip() if len(x) >= 1 else None)\n",
    "    df['governorate'] = df['location_parts'].apply(lambda x: x[-1].strip() if len(x) >= 1 else None)\n",
    "    df['city'] = df['location_parts'].apply(lambda x: x[-2].strip() if len(x) >= 2 else None)\n",
    "    df['district'] = df['location_parts'].apply(lambda x: x[-3].strip() if len(x) >= 3 else df['city'])\n",
    "    \n",
    "    # Drop helper column\n",
    "    df = df.drop(columns=['location_parts', 'location'])\n",
    "    return df\n",
    "\n",
    "# Apply function\n",
    "df = split_location(df)\n"
   ]
  },
  {
   "cell_type": "code",
   "execution_count": 24,
   "id": "57da8fcf",
   "metadata": {},
   "outputs": [
    {
     "data": {
      "text/plain": [
       "governorate    0\n",
       "city           0\n",
       "district       0\n",
       "compound       0\n",
       "dtype: int64"
      ]
     },
     "execution_count": 24,
     "metadata": {},
     "output_type": "execute_result"
    }
   ],
   "source": [
    "df[[\"governorate\", \"city\", \"district\", \"compound\"]].isnull().sum()"
   ]
  },
  {
   "cell_type": "code",
   "execution_count": 25,
   "id": "09c5498d",
   "metadata": {},
   "outputs": [
    {
     "data": {
      "text/html": [
       "<div>\n",
       "<style scoped>\n",
       "    .dataframe tbody tr th:only-of-type {\n",
       "        vertical-align: middle;\n",
       "    }\n",
       "\n",
       "    .dataframe tbody tr th {\n",
       "        vertical-align: top;\n",
       "    }\n",
       "\n",
       "    .dataframe thead th {\n",
       "        text-align: right;\n",
       "    }\n",
       "</style>\n",
       "<table border=\"1\" class=\"dataframe\">\n",
       "  <thead>\n",
       "    <tr style=\"text-align: right;\">\n",
       "      <th></th>\n",
       "      <th>price</th>\n",
       "      <th>type</th>\n",
       "      <th>size</th>\n",
       "      <th>bedrooms</th>\n",
       "      <th>bathrooms</th>\n",
       "      <th>available_from</th>\n",
       "      <th>payment_method</th>\n",
       "      <th>governorate</th>\n",
       "      <th>city</th>\n",
       "      <th>district</th>\n",
       "      <th>compound</th>\n",
       "    </tr>\n",
       "  </thead>\n",
       "  <tbody>\n",
       "    <tr>\n",
       "      <th>0</th>\n",
       "      <td>8000000.0</td>\n",
       "      <td>Chalet</td>\n",
       "      <td>732 sqft / 68 sqm</td>\n",
       "      <td>1+ Maid</td>\n",
       "      <td>1</td>\n",
       "      <td>31 Aug 2025</td>\n",
       "      <td>Cash</td>\n",
       "      <td>Red Sea</td>\n",
       "      <td>Hurghada</td>\n",
       "      <td>Al Gouna</td>\n",
       "      <td>Swan Lake Gouna</td>\n",
       "    </tr>\n",
       "    <tr>\n",
       "      <th>1</th>\n",
       "      <td>25000000.0</td>\n",
       "      <td>Villa</td>\n",
       "      <td>2,368 sqft / 220 sqm</td>\n",
       "      <td>4</td>\n",
       "      <td>4</td>\n",
       "      <td>2 Sep 2025</td>\n",
       "      <td>Cash</td>\n",
       "      <td>Giza</td>\n",
       "      <td>Sheikh Zayed City</td>\n",
       "      <td>New Zayed City</td>\n",
       "      <td>Karmell</td>\n",
       "    </tr>\n",
       "    <tr>\n",
       "      <th>2</th>\n",
       "      <td>15135000.0</td>\n",
       "      <td>Chalet</td>\n",
       "      <td>1,270 sqft / 118 sqm</td>\n",
       "      <td>2</td>\n",
       "      <td>2</td>\n",
       "      <td>19 Aug 2025</td>\n",
       "      <td>Cash</td>\n",
       "      <td>North Coast</td>\n",
       "      <td>Ras Al Hekma</td>\n",
       "      <td>Azha North</td>\n",
       "      <td>Azha North</td>\n",
       "    </tr>\n",
       "    <tr>\n",
       "      <th>3</th>\n",
       "      <td>12652000.0</td>\n",
       "      <td>Apartment</td>\n",
       "      <td>1,787 sqft / 166 sqm</td>\n",
       "      <td>3</td>\n",
       "      <td>2</td>\n",
       "      <td>26 Aug 2025</td>\n",
       "      <td>Installments</td>\n",
       "      <td>Cairo</td>\n",
       "      <td>New Cairo City</td>\n",
       "      <td>The 5Th Settlement</td>\n",
       "      <td>Taj City</td>\n",
       "    </tr>\n",
       "    <tr>\n",
       "      <th>4</th>\n",
       "      <td>45250000.0</td>\n",
       "      <td>Villa</td>\n",
       "      <td>4,306 sqft / 400 sqm</td>\n",
       "      <td>7</td>\n",
       "      <td>7</td>\n",
       "      <td>2 Sep 2025</td>\n",
       "      <td>Cash</td>\n",
       "      <td>Cairo</td>\n",
       "      <td>New Capital City</td>\n",
       "      <td>Granville</td>\n",
       "      <td>Granville</td>\n",
       "    </tr>\n",
       "  </tbody>\n",
       "</table>\n",
       "</div>"
      ],
      "text/plain": [
       "        price       type                  size bedrooms bathrooms  \\\n",
       "0   8000000.0     Chalet     732 sqft / 68 sqm  1+ Maid         1   \n",
       "1  25000000.0      Villa  2,368 sqft / 220 sqm        4         4   \n",
       "2  15135000.0     Chalet  1,270 sqft / 118 sqm        2         2   \n",
       "3  12652000.0  Apartment  1,787 sqft / 166 sqm        3         2   \n",
       "4  45250000.0      Villa  4,306 sqft / 400 sqm        7         7   \n",
       "\n",
       "  available_from payment_method  governorate               city  \\\n",
       "0    31 Aug 2025           Cash      Red Sea           Hurghada   \n",
       "1     2 Sep 2025           Cash         Giza  Sheikh Zayed City   \n",
       "2    19 Aug 2025           Cash  North Coast       Ras Al Hekma   \n",
       "3    26 Aug 2025   Installments        Cairo     New Cairo City   \n",
       "4     2 Sep 2025           Cash        Cairo   New Capital City   \n",
       "\n",
       "             district         compound  \n",
       "0            Al Gouna  Swan Lake Gouna  \n",
       "1      New Zayed City          Karmell  \n",
       "2          Azha North       Azha North  \n",
       "3  The 5Th Settlement         Taj City  \n",
       "4           Granville        Granville  "
      ]
     },
     "execution_count": 25,
     "metadata": {},
     "output_type": "execute_result"
    }
   ],
   "source": [
    "df.head()"
   ]
  },
  {
   "cell_type": "code",
   "execution_count": 26,
   "id": "96f1cbbd",
   "metadata": {},
   "outputs": [],
   "source": [
    "df[\"type\"] = df[\"type\"].astype(str)"
   ]
  },
  {
   "cell_type": "code",
   "execution_count": 27,
   "id": "116726a7",
   "metadata": {},
   "outputs": [
    {
     "name": "stdout",
     "output_type": "stream",
     "text": [
      "price             float64\n",
      "type               object\n",
      "size               object\n",
      "bedrooms           object\n",
      "bathrooms          object\n",
      "available_from     object\n",
      "payment_method     object\n",
      "governorate        object\n",
      "city               object\n",
      "district           object\n",
      "compound           object\n",
      "dtype: object\n"
     ]
    }
   ],
   "source": [
    "print(df.dtypes)\n"
   ]
  },
  {
   "cell_type": "code",
   "execution_count": 28,
   "id": "67d7b0f0",
   "metadata": {},
   "outputs": [],
   "source": [
    "def convert_size_to_sqm(size_str):\n",
    "    if not isinstance(size_str, str):\n",
    "        return None\n",
    "\n",
    "    size_str = size_str.lower().strip()\n",
    "    \n",
    "    # Case 1: pattern like \"732 sqft / 68 sqm\"\n",
    "    match = re.search(r\"(\\d+\\.?\\d*)\\s*sqft\\s*/\\s*(\\d+\\.?\\d*)\\s*sqm\", size_str)\n",
    "    if match:\n",
    "        # Prefer sqm since both are given\n",
    "        return float(match.group(2))\n",
    "    \n",
    "    # Case 2: only sqft\n",
    "    match = re.search(r\"(\\d+\\.?\\d*)\\s*sqft\", size_str)\n",
    "    if match:\n",
    "        sqft = float(match.group(1))\n",
    "        return round(sqft * 0.092903, 2)  # convert sqft → sqm\n",
    "    \n",
    "    # Case 3: only sqm\n",
    "    match = re.search(r\"(\\d+\\.?\\d*)\\s*sqm\", size_str)\n",
    "    if match:\n",
    "        return float(match.group(1))\n",
    "    \n",
    "    return None  # if pattern not recognized\n",
    "\n",
    "# Example usage:\n",
    "df[\"size_sqm\"] = df[\"size\"].apply(convert_size_to_sqm).astype(float)\n",
    "df.drop(columns=[\"size\"], inplace=True)\n"
   ]
  },
  {
   "cell_type": "code",
   "execution_count": 29,
   "id": "a2f808e6",
   "metadata": {},
   "outputs": [
    {
     "data": {
      "text/plain": [
       "np.int64(0)"
      ]
     },
     "execution_count": 29,
     "metadata": {},
     "output_type": "execute_result"
    }
   ],
   "source": [
    "df[\"size_sqm\"].isnull().sum()"
   ]
  },
  {
   "cell_type": "code",
   "execution_count": 30,
   "id": "ce86aa25",
   "metadata": {},
   "outputs": [
    {
     "data": {
      "text/plain": [
       "type\n",
       "Apartment          7958\n",
       "Chalet             3781\n",
       "Villa              3242\n",
       "Townhouse          1230\n",
       "Twin House          777\n",
       "Duplex              583\n",
       "Penthouse           546\n",
       "iVilla              250\n",
       "Hotel Apartment     101\n",
       "Cabin                35\n",
       "Palace               23\n",
       "Whole Building       14\n",
       "Roof                  5\n",
       "Full Floor            4\n",
       "Name: count, dtype: int64"
      ]
     },
     "execution_count": 30,
     "metadata": {},
     "output_type": "execute_result"
    }
   ],
   "source": [
    "df[\"type\"].value_counts()"
   ]
  },
  {
   "cell_type": "code",
   "execution_count": 31,
   "id": "c39905ac",
   "metadata": {},
   "outputs": [
    {
     "data": {
      "text/plain": [
       "bedrooms\n",
       "3               4737\n",
       "3+ Maid         3503\n",
       "2               2720\n",
       "4+ Maid         1952\n",
       "2+ Maid         1644\n",
       "4               1053\n",
       "1                719\n",
       "5+ Maid          669\n",
       "1+ Maid          431\n",
       "5                287\n",
       "studio           267\n",
       "6+ Maid          219\n",
       "7+ Maid          111\n",
       "6                 82\n",
       "7++ Maid          53\n",
       "studio+ Maid      48\n",
       "7                 32\n",
       "7+                22\n",
       "Name: count, dtype: int64"
      ]
     },
     "execution_count": 31,
     "metadata": {},
     "output_type": "execute_result"
    }
   ],
   "source": [
    "df[\"bedrooms\"].value_counts()"
   ]
  },
  {
   "cell_type": "code",
   "execution_count": 32,
   "id": "b1494118",
   "metadata": {},
   "outputs": [],
   "source": [
    "def parse_bedrooms(value):\n",
    "    value = str(value).strip().lower()\n",
    "\n",
    "    # Detect maid room\n",
    "    has_maid = \"maid\" in value\n",
    "\n",
    "    # Handle studio\n",
    "    if \"studio\" in value:\n",
    "        return 0, has_maid  # Treat studio as 0 bedrooms\n",
    "\n",
    "    # Extract first number\n",
    "    match = re.search(r\"\\d+\", value)\n",
    "    if match:\n",
    "        bedrooms = int(match.group())\n",
    "    else:\n",
    "        bedrooms = None\n",
    "\n",
    "    return bedrooms, has_maid\n",
    "\n",
    "# Apply function\n",
    "df[[\"bedrooms_num\", \"has_maid_room\"]] = df[\"bedrooms\"].apply(lambda x: pd.Series(parse_bedrooms(x)))\n",
    "df.drop(columns=[\"bedrooms\"], inplace=True)"
   ]
  },
  {
   "cell_type": "code",
   "execution_count": 33,
   "id": "8848039b",
   "metadata": {},
   "outputs": [
    {
     "name": "stdout",
     "output_type": "stream",
     "text": [
      "price             float64\n",
      "type               object\n",
      "bathrooms          object\n",
      "available_from     object\n",
      "payment_method     object\n",
      "governorate        object\n",
      "city               object\n",
      "district           object\n",
      "compound           object\n",
      "size_sqm          float64\n",
      "bedrooms_num        int64\n",
      "has_maid_room        bool\n",
      "dtype: object\n"
     ]
    }
   ],
   "source": [
    "print(df.dtypes)"
   ]
  },
  {
   "cell_type": "code",
   "execution_count": 34,
   "id": "c26f657a",
   "metadata": {},
   "outputs": [
    {
     "data": {
      "text/plain": [
       "bathrooms\n",
       "3       6170\n",
       "2       5247\n",
       "4       3035\n",
       "1       2002\n",
       "5       1194\n",
       "6        407\n",
       "7        202\n",
       "7+       138\n",
       "3.0       48\n",
       "2.0       46\n",
       "1.0       21\n",
       "4.0       18\n",
       "5.0       11\n",
       "none       5\n",
       "6.0        3\n",
       "7.0        2\n",
       "Name: count, dtype: int64"
      ]
     },
     "execution_count": 34,
     "metadata": {},
     "output_type": "execute_result"
    }
   ],
   "source": [
    "df['bathrooms'].value_counts()"
   ]
  },
  {
   "cell_type": "code",
   "execution_count": 35,
   "id": "6f6e1c4a",
   "metadata": {},
   "outputs": [],
   "source": [
    "def parse_bathrooms(value):\n",
    "    value = str(value).strip().lower()\n",
    "\n",
    "    # Handle missing or invalid\n",
    "    if value in [\"none\", \"nan\", \"\"]:\n",
    "        return 0\n",
    "\n",
    "    # Extract the first integer (e.g., from \"7+\", \"3.0\", etc.)\n",
    "    match = re.search(r\"\\d+\", value)\n",
    "    if match:\n",
    "        return int(match.group())\n",
    "\n",
    "    return np.nan\n",
    "\n",
    "# Apply cleaning\n",
    "df[\"bathrooms_num\"] = df[\"bathrooms\"].apply(parse_bathrooms)\n",
    "df.drop(columns=[\"bathrooms\"], inplace=True)   \n"
   ]
  },
  {
   "cell_type": "code",
   "execution_count": 36,
   "id": "1b727304",
   "metadata": {},
   "outputs": [
    {
     "data": {
      "text/html": [
       "<div>\n",
       "<style scoped>\n",
       "    .dataframe tbody tr th:only-of-type {\n",
       "        vertical-align: middle;\n",
       "    }\n",
       "\n",
       "    .dataframe tbody tr th {\n",
       "        vertical-align: top;\n",
       "    }\n",
       "\n",
       "    .dataframe thead th {\n",
       "        text-align: right;\n",
       "    }\n",
       "</style>\n",
       "<table border=\"1\" class=\"dataframe\">\n",
       "  <thead>\n",
       "    <tr style=\"text-align: right;\">\n",
       "      <th></th>\n",
       "      <th>price</th>\n",
       "      <th>type</th>\n",
       "      <th>available_from</th>\n",
       "      <th>payment_method</th>\n",
       "      <th>governorate</th>\n",
       "      <th>city</th>\n",
       "      <th>district</th>\n",
       "      <th>compound</th>\n",
       "      <th>size_sqm</th>\n",
       "      <th>bedrooms_num</th>\n",
       "      <th>has_maid_room</th>\n",
       "      <th>bathrooms_num</th>\n",
       "    </tr>\n",
       "  </thead>\n",
       "  <tbody>\n",
       "    <tr>\n",
       "      <th>0</th>\n",
       "      <td>8000000.0</td>\n",
       "      <td>Chalet</td>\n",
       "      <td>31 Aug 2025</td>\n",
       "      <td>Cash</td>\n",
       "      <td>Red Sea</td>\n",
       "      <td>Hurghada</td>\n",
       "      <td>Al Gouna</td>\n",
       "      <td>Swan Lake Gouna</td>\n",
       "      <td>68.0</td>\n",
       "      <td>1</td>\n",
       "      <td>True</td>\n",
       "      <td>1</td>\n",
       "    </tr>\n",
       "    <tr>\n",
       "      <th>1</th>\n",
       "      <td>25000000.0</td>\n",
       "      <td>Villa</td>\n",
       "      <td>2 Sep 2025</td>\n",
       "      <td>Cash</td>\n",
       "      <td>Giza</td>\n",
       "      <td>Sheikh Zayed City</td>\n",
       "      <td>New Zayed City</td>\n",
       "      <td>Karmell</td>\n",
       "      <td>220.0</td>\n",
       "      <td>4</td>\n",
       "      <td>False</td>\n",
       "      <td>4</td>\n",
       "    </tr>\n",
       "    <tr>\n",
       "      <th>2</th>\n",
       "      <td>15135000.0</td>\n",
       "      <td>Chalet</td>\n",
       "      <td>19 Aug 2025</td>\n",
       "      <td>Cash</td>\n",
       "      <td>North Coast</td>\n",
       "      <td>Ras Al Hekma</td>\n",
       "      <td>Azha North</td>\n",
       "      <td>Azha North</td>\n",
       "      <td>118.0</td>\n",
       "      <td>2</td>\n",
       "      <td>False</td>\n",
       "      <td>2</td>\n",
       "    </tr>\n",
       "    <tr>\n",
       "      <th>3</th>\n",
       "      <td>12652000.0</td>\n",
       "      <td>Apartment</td>\n",
       "      <td>26 Aug 2025</td>\n",
       "      <td>Installments</td>\n",
       "      <td>Cairo</td>\n",
       "      <td>New Cairo City</td>\n",
       "      <td>The 5Th Settlement</td>\n",
       "      <td>Taj City</td>\n",
       "      <td>166.0</td>\n",
       "      <td>3</td>\n",
       "      <td>False</td>\n",
       "      <td>2</td>\n",
       "    </tr>\n",
       "    <tr>\n",
       "      <th>4</th>\n",
       "      <td>45250000.0</td>\n",
       "      <td>Villa</td>\n",
       "      <td>2 Sep 2025</td>\n",
       "      <td>Cash</td>\n",
       "      <td>Cairo</td>\n",
       "      <td>New Capital City</td>\n",
       "      <td>Granville</td>\n",
       "      <td>Granville</td>\n",
       "      <td>400.0</td>\n",
       "      <td>7</td>\n",
       "      <td>False</td>\n",
       "      <td>7</td>\n",
       "    </tr>\n",
       "  </tbody>\n",
       "</table>\n",
       "</div>"
      ],
      "text/plain": [
       "        price       type available_from payment_method  governorate  \\\n",
       "0   8000000.0     Chalet    31 Aug 2025           Cash      Red Sea   \n",
       "1  25000000.0      Villa     2 Sep 2025           Cash         Giza   \n",
       "2  15135000.0     Chalet    19 Aug 2025           Cash  North Coast   \n",
       "3  12652000.0  Apartment    26 Aug 2025   Installments        Cairo   \n",
       "4  45250000.0      Villa     2 Sep 2025           Cash        Cairo   \n",
       "\n",
       "                city            district         compound  size_sqm  \\\n",
       "0           Hurghada            Al Gouna  Swan Lake Gouna      68.0   \n",
       "1  Sheikh Zayed City      New Zayed City          Karmell     220.0   \n",
       "2       Ras Al Hekma          Azha North       Azha North     118.0   \n",
       "3     New Cairo City  The 5Th Settlement         Taj City     166.0   \n",
       "4   New Capital City           Granville        Granville     400.0   \n",
       "\n",
       "   bedrooms_num  has_maid_room  bathrooms_num  \n",
       "0             1           True              1  \n",
       "1             4          False              4  \n",
       "2             2          False              2  \n",
       "3             3          False              2  \n",
       "4             7          False              7  "
      ]
     },
     "execution_count": 36,
     "metadata": {},
     "output_type": "execute_result"
    }
   ],
   "source": [
    "df.head()\n"
   ]
  },
  {
   "cell_type": "code",
   "execution_count": 37,
   "id": "d6886952",
   "metadata": {},
   "outputs": [],
   "source": [
    "df['available_from'] = pd.to_datetime(df['available_from'], errors='coerce')"
   ]
  },
  {
   "cell_type": "code",
   "execution_count": 38,
   "id": "e4883b34",
   "metadata": {},
   "outputs": [],
   "source": [
    "df.sort_values(by='available_from', inplace=True)"
   ]
  },
  {
   "cell_type": "code",
   "execution_count": 39,
   "id": "a3757637",
   "metadata": {},
   "outputs": [
    {
     "data": {
      "text/html": [
       "<div>\n",
       "<style scoped>\n",
       "    .dataframe tbody tr th:only-of-type {\n",
       "        vertical-align: middle;\n",
       "    }\n",
       "\n",
       "    .dataframe tbody tr th {\n",
       "        vertical-align: top;\n",
       "    }\n",
       "\n",
       "    .dataframe thead th {\n",
       "        text-align: right;\n",
       "    }\n",
       "</style>\n",
       "<table border=\"1\" class=\"dataframe\">\n",
       "  <thead>\n",
       "    <tr style=\"text-align: right;\">\n",
       "      <th></th>\n",
       "      <th>price</th>\n",
       "      <th>type</th>\n",
       "      <th>available_from</th>\n",
       "      <th>payment_method</th>\n",
       "      <th>governorate</th>\n",
       "      <th>city</th>\n",
       "      <th>district</th>\n",
       "      <th>compound</th>\n",
       "      <th>size_sqm</th>\n",
       "      <th>bedrooms_num</th>\n",
       "      <th>has_maid_room</th>\n",
       "      <th>bathrooms_num</th>\n",
       "    </tr>\n",
       "  </thead>\n",
       "  <tbody>\n",
       "    <tr>\n",
       "      <th>11719</th>\n",
       "      <td>12200000.0</td>\n",
       "      <td>Apartment</td>\n",
       "      <td>2023-06-14</td>\n",
       "      <td>Cash</td>\n",
       "      <td>North Coast</td>\n",
       "      <td>Al Alamein</td>\n",
       "      <td>New Alamein City</td>\n",
       "      <td>North Edge Towers</td>\n",
       "      <td>114.0</td>\n",
       "      <td>2</td>\n",
       "      <td>False</td>\n",
       "      <td>1</td>\n",
       "    </tr>\n",
       "    <tr>\n",
       "      <th>14757</th>\n",
       "      <td>7000000.0</td>\n",
       "      <td>Apartment</td>\n",
       "      <td>2023-07-18</td>\n",
       "      <td>Cash</td>\n",
       "      <td>Cairo</td>\n",
       "      <td>Heliopolis - Masr El Gedida</td>\n",
       "      <td>Almazah</td>\n",
       "      <td>Almazah</td>\n",
       "      <td>135.0</td>\n",
       "      <td>3</td>\n",
       "      <td>False</td>\n",
       "      <td>2</td>\n",
       "    </tr>\n",
       "    <tr>\n",
       "      <th>9513</th>\n",
       "      <td>12000000.0</td>\n",
       "      <td>Twin House</td>\n",
       "      <td>2023-08-03</td>\n",
       "      <td>Cash</td>\n",
       "      <td>Cairo</td>\n",
       "      <td>New Cairo City</td>\n",
       "      <td>The 5Th Settlement</td>\n",
       "      <td>Layan Residence</td>\n",
       "      <td>266.0</td>\n",
       "      <td>3</td>\n",
       "      <td>True</td>\n",
       "      <td>4</td>\n",
       "    </tr>\n",
       "    <tr>\n",
       "      <th>17781</th>\n",
       "      <td>11000000.0</td>\n",
       "      <td>Apartment</td>\n",
       "      <td>2023-09-20</td>\n",
       "      <td>Cash</td>\n",
       "      <td>Cairo</td>\n",
       "      <td>New Cairo City</td>\n",
       "      <td>El Katameya</td>\n",
       "      <td>District 5 Residences</td>\n",
       "      <td>154.0</td>\n",
       "      <td>2</td>\n",
       "      <td>False</td>\n",
       "      <td>3</td>\n",
       "    </tr>\n",
       "    <tr>\n",
       "      <th>11496</th>\n",
       "      <td>18500000.0</td>\n",
       "      <td>iVilla</td>\n",
       "      <td>2023-12-24</td>\n",
       "      <td>Cash</td>\n",
       "      <td>Cairo</td>\n",
       "      <td>New Cairo City</td>\n",
       "      <td>The 5Th Settlement</td>\n",
       "      <td>Mountain View Hyde Park</td>\n",
       "      <td>305.0</td>\n",
       "      <td>3</td>\n",
       "      <td>True</td>\n",
       "      <td>3</td>\n",
       "    </tr>\n",
       "  </tbody>\n",
       "</table>\n",
       "</div>"
      ],
      "text/plain": [
       "            price        type available_from payment_method  governorate  \\\n",
       "11719  12200000.0   Apartment     2023-06-14           Cash  North Coast   \n",
       "14757   7000000.0   Apartment     2023-07-18           Cash        Cairo   \n",
       "9513   12000000.0  Twin House     2023-08-03           Cash        Cairo   \n",
       "17781  11000000.0   Apartment     2023-09-20           Cash        Cairo   \n",
       "11496  18500000.0      iVilla     2023-12-24           Cash        Cairo   \n",
       "\n",
       "                              city            district  \\\n",
       "11719                   Al Alamein    New Alamein City   \n",
       "14757  Heliopolis - Masr El Gedida             Almazah   \n",
       "9513                New Cairo City  The 5Th Settlement   \n",
       "17781               New Cairo City         El Katameya   \n",
       "11496               New Cairo City  The 5Th Settlement   \n",
       "\n",
       "                      compound  size_sqm  bedrooms_num  has_maid_room  \\\n",
       "11719        North Edge Towers     114.0             2          False   \n",
       "14757                  Almazah     135.0             3          False   \n",
       "9513           Layan Residence     266.0             3           True   \n",
       "17781    District 5 Residences     154.0             2          False   \n",
       "11496  Mountain View Hyde Park     305.0             3           True   \n",
       "\n",
       "       bathrooms_num  \n",
       "11719              1  \n",
       "14757              2  \n",
       "9513               4  \n",
       "17781              3  \n",
       "11496              3  "
      ]
     },
     "execution_count": 39,
     "metadata": {},
     "output_type": "execute_result"
    }
   ],
   "source": [
    "df.head()"
   ]
  },
  {
   "cell_type": "code",
   "execution_count": 40,
   "id": "7efa132d",
   "metadata": {},
   "outputs": [
    {
     "data": {
      "text/plain": [
       "price             0\n",
       "type              0\n",
       "available_from    0\n",
       "payment_method    0\n",
       "governorate       0\n",
       "city              0\n",
       "district          0\n",
       "compound          0\n",
       "size_sqm          0\n",
       "bedrooms_num      0\n",
       "has_maid_room     0\n",
       "bathrooms_num     0\n",
       "dtype: int64"
      ]
     },
     "execution_count": 40,
     "metadata": {},
     "output_type": "execute_result"
    }
   ],
   "source": [
    "df.isnull().sum()"
   ]
  },
  {
   "cell_type": "code",
   "execution_count": 41,
   "id": "889db261",
   "metadata": {},
   "outputs": [
    {
     "data": {
      "text/plain": [
       "price                    float64\n",
       "type                      object\n",
       "available_from    datetime64[ns]\n",
       "payment_method            object\n",
       "governorate               object\n",
       "city                      object\n",
       "district                  object\n",
       "compound                  object\n",
       "size_sqm                 float64\n",
       "bedrooms_num               int64\n",
       "has_maid_room               bool\n",
       "bathrooms_num              int64\n",
       "dtype: object"
      ]
     },
     "execution_count": 41,
     "metadata": {},
     "output_type": "execute_result"
    }
   ],
   "source": [
    "df.dtypes"
   ]
  },
  {
   "cell_type": "code",
   "execution_count": 42,
   "id": "1e414a69",
   "metadata": {},
   "outputs": [
    {
     "data": {
      "text/html": [
       "<div>\n",
       "<style scoped>\n",
       "    .dataframe tbody tr th:only-of-type {\n",
       "        vertical-align: middle;\n",
       "    }\n",
       "\n",
       "    .dataframe tbody tr th {\n",
       "        vertical-align: top;\n",
       "    }\n",
       "\n",
       "    .dataframe thead th {\n",
       "        text-align: right;\n",
       "    }\n",
       "</style>\n",
       "<table border=\"1\" class=\"dataframe\">\n",
       "  <thead>\n",
       "    <tr style=\"text-align: right;\">\n",
       "      <th></th>\n",
       "      <th>price</th>\n",
       "      <th>type</th>\n",
       "      <th>available_from</th>\n",
       "      <th>payment_method</th>\n",
       "      <th>governorate</th>\n",
       "      <th>city</th>\n",
       "      <th>district</th>\n",
       "      <th>compound</th>\n",
       "      <th>size_sqm</th>\n",
       "      <th>bedrooms_num</th>\n",
       "      <th>has_maid_room</th>\n",
       "      <th>bathrooms_num</th>\n",
       "    </tr>\n",
       "  </thead>\n",
       "  <tbody>\n",
       "    <tr>\n",
       "      <th>2205</th>\n",
       "      <td>4018350.0</td>\n",
       "      <td>Apartment</td>\n",
       "      <td>2026-09-02</td>\n",
       "      <td>Cash</td>\n",
       "      <td>Red Sea</td>\n",
       "      <td>Hurghada</td>\n",
       "      <td>El Hadaba District</td>\n",
       "      <td>El Hadaba District</td>\n",
       "      <td>86.0</td>\n",
       "      <td>3</td>\n",
       "      <td>False</td>\n",
       "      <td>1</td>\n",
       "    </tr>\n",
       "    <tr>\n",
       "      <th>7223</th>\n",
       "      <td>3505500.0</td>\n",
       "      <td>Apartment</td>\n",
       "      <td>2026-09-02</td>\n",
       "      <td>Cash</td>\n",
       "      <td>Red Sea</td>\n",
       "      <td>Hurghada</td>\n",
       "      <td>Hurghada Resorts</td>\n",
       "      <td>Magawish Resort</td>\n",
       "      <td>81.0</td>\n",
       "      <td>2</td>\n",
       "      <td>False</td>\n",
       "      <td>1</td>\n",
       "    </tr>\n",
       "    <tr>\n",
       "      <th>2203</th>\n",
       "      <td>13400000.0</td>\n",
       "      <td>Chalet</td>\n",
       "      <td>2026-09-02</td>\n",
       "      <td>Cash</td>\n",
       "      <td>North Coast</td>\n",
       "      <td>Ras Al Hekma</td>\n",
       "      <td>Koun</td>\n",
       "      <td>Koun</td>\n",
       "      <td>121.0</td>\n",
       "      <td>3</td>\n",
       "      <td>True</td>\n",
       "      <td>3</td>\n",
       "    </tr>\n",
       "    <tr>\n",
       "      <th>7099</th>\n",
       "      <td>4100000.0</td>\n",
       "      <td>Apartment</td>\n",
       "      <td>2026-09-02</td>\n",
       "      <td>Cash</td>\n",
       "      <td>Giza</td>\n",
       "      <td>6 October City</td>\n",
       "      <td>Hadayek October</td>\n",
       "      <td>Zat</td>\n",
       "      <td>128.0</td>\n",
       "      <td>3</td>\n",
       "      <td>False</td>\n",
       "      <td>3</td>\n",
       "    </tr>\n",
       "    <tr>\n",
       "      <th>414</th>\n",
       "      <td>5000000.0</td>\n",
       "      <td>Apartment</td>\n",
       "      <td>2027-10-31</td>\n",
       "      <td>Cash</td>\n",
       "      <td>Giza</td>\n",
       "      <td>6 October City</td>\n",
       "      <td>26Th Of July Corridor</td>\n",
       "      <td>Al Thawra El Khadra</td>\n",
       "      <td>90.0</td>\n",
       "      <td>2</td>\n",
       "      <td>False</td>\n",
       "      <td>1</td>\n",
       "    </tr>\n",
       "  </tbody>\n",
       "</table>\n",
       "</div>"
      ],
      "text/plain": [
       "           price       type available_from payment_method  governorate  \\\n",
       "2205   4018350.0  Apartment     2026-09-02           Cash      Red Sea   \n",
       "7223   3505500.0  Apartment     2026-09-02           Cash      Red Sea   \n",
       "2203  13400000.0     Chalet     2026-09-02           Cash  North Coast   \n",
       "7099   4100000.0  Apartment     2026-09-02           Cash         Giza   \n",
       "414    5000000.0  Apartment     2027-10-31           Cash         Giza   \n",
       "\n",
       "                city               district             compound  size_sqm  \\\n",
       "2205        Hurghada     El Hadaba District   El Hadaba District      86.0   \n",
       "7223        Hurghada       Hurghada Resorts      Magawish Resort      81.0   \n",
       "2203    Ras Al Hekma                   Koun                 Koun     121.0   \n",
       "7099  6 October City        Hadayek October                  Zat     128.0   \n",
       "414   6 October City  26Th Of July Corridor  Al Thawra El Khadra      90.0   \n",
       "\n",
       "      bedrooms_num  has_maid_room  bathrooms_num  \n",
       "2205             3          False              1  \n",
       "7223             2          False              1  \n",
       "2203             3           True              3  \n",
       "7099             3          False              3  \n",
       "414              2          False              1  "
      ]
     },
     "execution_count": 42,
     "metadata": {},
     "output_type": "execute_result"
    }
   ],
   "source": [
    "df.tail()"
   ]
  },
  {
   "cell_type": "code",
   "execution_count": 49,
   "id": "9127fc8e",
   "metadata": {},
   "outputs": [
    {
     "data": {
      "text/plain": [
       "{'price': 3200000.0,\n",
       " 'type': 'Apartment',\n",
       " 'available_from': Timestamp('2025-08-19 00:00:00'),\n",
       " 'payment_method': 'Cash',\n",
       " 'governorate': 'Cairo',\n",
       " 'city': 'Nasr City',\n",
       " 'district': 'Nasr City Compounds',\n",
       " 'compound': 'Capital East',\n",
       " 'size_sqm': 126.0,\n",
       " 'bedrooms_num': 3,\n",
       " 'has_maid_room': True,\n",
       " 'bathrooms_num': 3}"
      ]
     },
     "execution_count": 49,
     "metadata": {},
     "output_type": "execute_result"
    }
   ],
   "source": [
    "df.loc[df.shape[0]].to_dict()"
   ]
  },
  {
   "cell_type": "code",
   "execution_count": 43,
   "id": "9cf3e3db",
   "metadata": {},
   "outputs": [
    {
     "data": {
      "text/plain": [
       "(18549, 12)"
      ]
     },
     "execution_count": 43,
     "metadata": {},
     "output_type": "execute_result"
    }
   ],
   "source": [
    "df.shape"
   ]
  },
  {
   "cell_type": "code",
   "execution_count": 44,
   "id": "3f16cb1e",
   "metadata": {},
   "outputs": [],
   "source": [
    "df.to_csv(CLEANED_DATASET_PATH, index=False)"
   ]
  }
 ],
 "metadata": {
  "kernelspec": {
   "display_name": "base",
   "language": "python",
   "name": "python3"
  },
  "language_info": {
   "codemirror_mode": {
    "name": "ipython",
    "version": 3
   },
   "file_extension": ".py",
   "mimetype": "text/x-python",
   "name": "python",
   "nbconvert_exporter": "python",
   "pygments_lexer": "ipython3",
   "version": "3.12.8"
  }
 },
 "nbformat": 4,
 "nbformat_minor": 5
}
